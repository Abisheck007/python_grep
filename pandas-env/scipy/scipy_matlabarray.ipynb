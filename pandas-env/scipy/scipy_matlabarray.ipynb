{
 "cells": [
  {
   "cell_type": "code",
   "execution_count": 2,
   "metadata": {},
   "outputs": [],
   "source": [
    "from scipy import io\n",
    "import numpy as np\n",
    "abi = np.arange(10)\n",
    "io.savemat('test.mat', {'abi': abi})"
   ]
  },
  {
   "cell_type": "code",
   "execution_count": 3,
   "metadata": {},
   "outputs": [
    {
     "data": {
      "text/plain": [
       "{'__header__': b'MATLAB 5.0 MAT-file Platform: posix, Created on: Mon Jul  7 13:15:27 2025',\n",
       " '__version__': '1.0',\n",
       " '__globals__': [],\n",
       " 'abi': array([[0, 1, 2, 3, 4, 5, 6, 7, 8, 9]])}"
      ]
     },
     "execution_count": 3,
     "metadata": {},
     "output_type": "execute_result"
    }
   ],
   "source": [
    "    \n",
    "from scipy import io\n",
    "import numpy as np\n",
    "abi = np.arange(10)\n",
    "io.savemat('test.mat', {'abi': abi})\n",
    "\n",
    "new = io.loadmat('test.mat')\n",
    "new"
   ]
  },
  {
   "cell_type": "code",
   "execution_count": 4,
   "metadata": {},
   "outputs": [
    {
     "data": {
      "text/plain": [
       "array([[0, 1, 2, 3, 4, 5, 6, 7, 8, 9]])"
      ]
     },
     "execution_count": 4,
     "metadata": {},
     "output_type": "execute_result"
    }
   ],
   "source": [
    "##if we dont need full data only the array name then we can use the following\n",
    "from scipy import io\n",
    "import numpy as np\n",
    "abi = np.arange(10)\n",
    "io.savemat('test.mat', {'abi': abi})\n",
    "\n",
    "new = io.loadmat('test.mat')\n",
    "new['abi']"
   ]
  },
  {
   "cell_type": "code",
   "execution_count": null,
   "metadata": {},
   "outputs": [],
   "source": []
  }
 ],
 "metadata": {
  "kernelspec": {
   "display_name": "pandas-env",
   "language": "python",
   "name": "python3"
  },
  "language_info": {
   "codemirror_mode": {
    "name": "ipython",
    "version": 3
   },
   "file_extension": ".py",
   "mimetype": "text/x-python",
   "name": "python",
   "nbconvert_exporter": "python",
   "pygments_lexer": "ipython3",
   "version": "3.13.3"
  }
 },
 "nbformat": 4,
 "nbformat_minor": 2
}
