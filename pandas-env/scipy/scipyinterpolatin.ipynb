{
 "cells": [
  {
   "cell_type": "code",
   "execution_count": 2,
   "metadata": {},
   "outputs": [
    {
     "data": {
      "text/plain": [
       "array([5.2, 5.4, 5.6, 5.8, 6. , 6.2, 6.4, 6.6, 6.8])"
      ]
     },
     "execution_count": 2,
     "metadata": {},
     "output_type": "execute_result"
    }
   ],
   "source": [
    "from scipy.interpolate import interp1d\n",
    "import numpy as np\n",
    "x = np.arange(10)\n",
    "y = 2*x + 1\n",
    "func = interp1d(x, y)\n",
    "abi = func(np.arange(2.1,3,0.1))\n",
    "abi\n"
   ]
  },
  {
   "cell_type": "code",
   "execution_count": 6,
   "metadata": {},
   "outputs": [
    {
     "data": {
      "text/plain": [
       "array([5.62826474, 6.03987348, 6.47131994, 6.92265019, 7.3939103 ,\n",
       "       7.88514634, 8.39640439, 8.92773053, 9.47917082])"
      ]
     },
     "execution_count": 6,
     "metadata": {},
     "output_type": "execute_result"
    }
   ],
   "source": [
    "#same with univariatespline\n",
    "\n",
    "from scipy.interpolate import UnivariateSpline\n",
    "import numpy as np\n",
    "x = np.arange(10)\n",
    "y = x**2 +np.sin(x) + 1\n",
    "func = UnivariateSpline(x, y)\n",
    "abi = func(np.arange(2.1,3,0.1))\n",
    "abi"
   ]
  },
  {
   "cell_type": "code",
   "execution_count": 7,
   "metadata": {},
   "outputs": [
    {
     "data": {
      "text/plain": [
       "array([6.25748981, 6.62190817, 7.00310702, 7.40121814, 7.8161443 ,\n",
       "       8.24773402, 8.69590519, 9.16070828, 9.64233874])"
      ]
     },
     "execution_count": 7,
     "metadata": {},
     "output_type": "execute_result"
    }
   ],
   "source": [
    "\n",
    "##interpolation using radial base functions\n",
    "from scipy.interpolate import Rbf\n",
    "import numpy as np\n",
    "x = np.arange(10)\n",
    "y = x**2 +np.sin(x) + 1\n",
    "func = Rbf(x, y)\n",
    "abi = func(np.arange(2.1,3,0.1))\n",
    "abi"
   ]
  },
  {
   "cell_type": "code",
   "execution_count": null,
   "metadata": {},
   "outputs": [],
   "source": []
  },
  {
   "cell_type": "code",
   "execution_count": null,
   "metadata": {},
   "outputs": [],
   "source": []
  }
 ],
 "metadata": {
  "kernelspec": {
   "display_name": "pandas-env",
   "language": "python",
   "name": "python3"
  },
  "language_info": {
   "codemirror_mode": {
    "name": "ipython",
    "version": 3
   },
   "file_extension": ".py",
   "mimetype": "text/x-python",
   "name": "python",
   "nbconvert_exporter": "python",
   "pygments_lexer": "ipython3",
   "version": "3.13.3"
  }
 },
 "nbformat": 4,
 "nbformat_minor": 2
}
