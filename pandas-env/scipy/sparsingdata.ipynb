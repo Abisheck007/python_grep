{
 "cells": [
  {
   "cell_type": "code",
   "execution_count": 4,
   "metadata": {},
   "outputs": [
    {
     "name": "stdout",
     "output_type": "stream",
     "text": [
      "[1 1 2 2 6]\n"
     ]
    }
   ],
   "source": [
    "\n",
    "import numpy as np\n",
    "from scipy.sparse import csr_matrix\n",
    "num1 = np.array([0,0,0,1,1,0,0,2,2,0,0,6])\n",
    "print(csr_matrix(num1))\n"
   ]
  },
  {
   "cell_type": "code",
   "execution_count": 5,
   "metadata": {},
   "outputs": [
    {
     "name": "stdout",
     "output_type": "stream",
     "text": [
      "[1 1 2 2 6]\n"
     ]
    }
   ],
   "source": [
    "#if we use .data then it will give only the value not the index \n",
    "num2 = np.array([0,0,0,1,1,0,0,2,2,0,0,6])\n",
    "print(csr_matrix(num2).data)"
   ]
  },
  {
   "cell_type": "code",
   "execution_count": 7,
   "metadata": {},
   "outputs": [
    {
     "name": "stdout",
     "output_type": "stream",
     "text": [
      "[1 1 2 2 6]\n"
     ]
    }
   ],
   "source": [
    "##we can also use it for multi dimensional array\n",
    "num3 = np.array([[0,0,0,1,1,0],[0,2,2,0,0,6]])\n",
    "print(csr_matrix(num3).data) "
   ]
  },
  {
   "cell_type": "code",
   "execution_count": 8,
   "metadata": {},
   "outputs": [
    {
     "name": "stdout",
     "output_type": "stream",
     "text": [
      "7\n"
     ]
    }
   ],
   "source": [
    "#suppose we need to count the values only not the zeros means::\n",
    "num  = np.array([1,0,0,4,0,0,5,0,7,8,0,9,0,0,9,0])\n",
    "print(csr_matrix(num).count_nonzero())"
   ]
  },
  {
   "cell_type": "code",
   "execution_count": 13,
   "metadata": {},
   "outputs": [
    {
     "name": "stdout",
     "output_type": "stream",
     "text": [
      "<Compressed Sparse Row sparse matrix of dtype 'int64'\n",
      "\twith 7 stored elements and shape (1, 16)>\n",
      "  Coords\tValues\n",
      "  (0, 0)\t1\n",
      "  (0, 3)\t4\n",
      "  (0, 6)\t5\n",
      "  (0, 8)\t7\n",
      "  (0, 9)\t8\n",
      "  (0, 11)\t9\n",
      "  (0, 14)\t9\n"
     ]
    }
   ],
   "source": [
    "#to eleminate zeros from the array we can use the eliminate_zero() method\n",
    "num4 = np.array([1,0,0,4,0,0,5,0,7,8,0,9,0,0,9,0])\n",
    "data = csr_matrix(num4)\n",
    "data.eliminate_zeros()\n",
    "print(data)\n"
   ]
  },
  {
   "cell_type": "code",
   "execution_count": 17,
   "metadata": {},
   "outputs": [
    {
     "name": "stdout",
     "output_type": "stream",
     "text": [
      "<Compressed Sparse Row sparse matrix of dtype 'int64'\n",
      "\twith 8 stored elements and shape (3, 4)>\n",
      "  Coords\tValues\n",
      "  (0, 0)\t1\n",
      "  (0, 1)\t1\n",
      "  (0, 2)\t2\n",
      "  (1, 0)\t2\n",
      "  (1, 1)\t2\n",
      "  (2, 0)\t5\n",
      "  (2, 1)\t5\n",
      "  (2, 2)\t1\n"
     ]
    }
   ],
   "source": [
    "#to remove duplicates from the array we can use the sum_duplicates() method\n",
    "num = np.array([[1,1,2,0],[2,2,0,0,],[5,5,1,0]])\n",
    "data = csr_matrix(num)\n",
    "data.sum_duplicates()\n",
    "print(data)"
   ]
  },
  {
   "cell_type": "code",
   "execution_count": 18,
   "metadata": {},
   "outputs": [
    {
     "name": "stdout",
     "output_type": "stream",
     "text": [
      "<Compressed Sparse Column sparse matrix of dtype 'int64'\n",
      "\twith 7 stored elements and shape (1, 16)>\n",
      "  Coords\tValues\n",
      "  (0, 0)\t1\n",
      "  (0, 3)\t4\n",
      "  (0, 6)\t5\n",
      "  (0, 8)\t7\n",
      "  (0, 9)\t8\n",
      "  (0, 11)\t9\n",
      "  (0, 14)\t9\n"
     ]
    }
   ],
   "source": [
    "num  = np.array([1,0,0,4,0,0,5,0,7,8,0,9,0,0,9,0])\n",
    "print(csr_matrix(num).tocsc())"
   ]
  },
  {
   "cell_type": "code",
   "execution_count": null,
   "metadata": {},
   "outputs": [],
   "source": []
  }
 ],
 "metadata": {
  "kernelspec": {
   "display_name": "pandas-env",
   "language": "python",
   "name": "python3"
  },
  "language_info": {
   "codemirror_mode": {
    "name": "ipython",
    "version": 3
   },
   "file_extension": ".py",
   "mimetype": "text/x-python",
   "name": "python",
   "nbconvert_exporter": "python",
   "pygments_lexer": "ipython3",
   "version": "3.13.3"
  }
 },
 "nbformat": 4,
 "nbformat_minor": 2
}
